{
 "cells": [
  {
   "cell_type": "markdown",
   "metadata": {},
   "source": [
    "run first two cells and last one"
   ]
  },
  {
   "cell_type": "code",
   "execution_count": null,
   "metadata": {},
   "outputs": [],
   "source": [
    "import pandas as pd\n",
    "import neon_data_tools\n",
    "import data_analyzer\n",
    "import data_plotting\n",
    "import generate_graphs\n",
    "import matplotlib.pyplot as plt\n",
    "%matplotlib inline"
   ]
  },
  {
   "cell_type": "code",
   "execution_count": null,
   "metadata": {},
   "outputs": [],
   "source": [
    "site = \"HARV\"\n",
    "dates = [\"2017-04\", \"2017-05\", \"2017-06\", \"2017-07\", \"2017-08\"]\n",
    "package = \"basic\"\n",
    "datasets = [\"ticks\", \"relative humidity\", 'precipitation']\n",
    "independent_dataset_names = [\"Humidity\", \"Precipitation\"]\n",
    "dpIDs = {\"ticks\": \"DP1.10093.001\", \"relative humidity\": \"DP1.00098.001\", \"precipitation\": \"DP1.00006.001\"}\n",
    "file_names = {\"ticks\": [], \"relative humidity\": [], \"precipitation\": []}"
   ]
  },
  {
   "cell_type": "code",
   "execution_count": null,
   "metadata": {},
   "outputs": [],
   "source": [
    "# [0] is tick dataframe, [1] is relative humidity dataframe, [2] is precipitation dataframe\n",
    "# if you need this data, copy th next line into desired function and access data from apropriate dataframe\n",
    "stacked_dataframes = neon_data_tools.download_all_datasets(file_names, datasets, dpIDs, site, dates, \"basic\")"
   ]
  },
  {
   "cell_type": "code",
   "execution_count": null,
   "metadata": {},
   "outputs": [],
   "source": [
    "ticks = data_plotting.data_to_array(data_analyzer.tick_analyze(stacked_dataframes[0]))\n",
    "humid = data_plotting.data_to_array(data_analyzer.humidity_analyze(stacked_dataframes[1]))\n",
    "precip = data_plotting.data_to_array(data_analyzer.precipitation_analyze(stacked_dataframes[2]))"
   ]
  },
  {
   "cell_type": "code",
   "execution_count": null,
   "metadata": {},
   "outputs": [],
   "source": [
    "# test functions\n",
    "x = np.array([1, 2, 3])\n",
    "x2 = np.array([3, 2, 5])\n",
    "y = np.array([2, 4, 6])\n",
    "print(data_plotting.perform_linear_regression(x, y))\n",
    "data_plotting.plot_line_of_best_fit(x, y)\n",
    "data_plotting.plot_correlation_coefficients(['x', 'x2'], [x, x2], y)"
   ]
  },
  {
   "cell_type": "code",
   "execution_count": null,
   "metadata": {},
   "outputs": [],
   "source": [
    "# plot everything individually\n",
    "data_plotting.plot_line_chart(dates, ticks, \"Ticks\")\n",
    "data_plotting.perform_linear_regression(humid, ticks)\n",
    "data_plotting.perform_linear_regression(precip, ticks)\n",
    "data_plotting.plot_line_of_best_fit(humid, ticks)\n",
    "data_plotting.plot_line_of_best_fit(precip, ticks)\n",
    "data_plotting.plot_correlation_coefficients(independent_dataset_names, [humid, precip], ticks)"
   ]
  },
  {
   "cell_type": "code",
   "execution_count": null,
   "metadata": {},
   "outputs": [],
   "source": [
    "# plot everything together at once\n",
    "independent_datasets = [humid, precip]\n",
    "generate_graphs.generate_all_plots(dates, ticks, independent_dataset_names, independent_datasets)"
   ]
  },
  {
   "cell_type": "code",
   "execution_count": null,
   "metadata": {},
   "outputs": [],
   "source": [
    "# get correlation coefficents\n",
    "data_plotting.get_correlation_coefficients(independent_dataset_names, independent_datasets, tick1)"
   ]
  }
 ],
 "metadata": {
  "interpreter": {
   "hash": "2068f3583ae5cf10af8f15ef2248b92708cc6d2b99c2277d9c2dd617a15e83e9"
  },
  "kernelspec": {
   "display_name": "Python 3.9.7 ('base')",
   "language": "python",
   "name": "python3"
  },
  "language_info": {
   "codemirror_mode": {
    "name": "ipython",
    "version": 3
   },
   "file_extension": ".py",
   "mimetype": "text/x-python",
   "name": "python",
   "nbconvert_exporter": "python",
   "pygments_lexer": "ipython3",
   "version": "3.9.7"
  },
  "orig_nbformat": 4
 },
 "nbformat": 4,
 "nbformat_minor": 2
}
