{
 "cells": [
  {
   "cell_type": "code",
   "execution_count": 23,
   "metadata": {},
   "outputs": [],
   "source": [
    "import pandas as pd\n",
    "from neonUtilities.NeonObservational import NeonObservational\n",
    "import matplotlib.pyplot as plt\n",
    "from scipy import stats\n",
    "import numpy as np\n",
    "%matplotlib inline"
   ]
  },
  {
   "cell_type": "code",
   "execution_count": 25,
   "metadata": {},
   "outputs": [
    {
     "name": "stdout",
     "output_type": "stream",
     "text": [
      "1 file(s) in total\n",
      "Zip file missing. This may be because this data chunk https://data.neonscience.org/api/v0/data/DP1.10093.001/HARV/2017-06 does not exist.\n",
      "No download files found. Pass the download directory to this function or use the download() method.\n",
      "No files stacked\n"
     ]
    }
   ],
   "source": [
    "neonobj = NeonObservational(dpID=\"DP1.10093.001\", site=[\"HARV\"], dates=[\"2017-06\"], package=\"basic\")\n",
    "#neonobj = NeonObservational(dpID=\"DP1.10003.001\", site=[\"WOOD\"], dates=[\"2015-07\",[\"2017-07\",\"2017-12\"]], package=\"basic\")\n",
    "\n",
    "neonobj.download()\n",
    "neonobj.stackByTable()\n",
    "df = neonobj.to_pandas()\n"
   ]
  }
 ],
 "metadata": {
  "interpreter": {
   "hash": "2068f3583ae5cf10af8f15ef2248b92708cc6d2b99c2277d9c2dd617a15e83e9"
  },
  "kernelspec": {
   "display_name": "Python 3.9.7 ('base')",
   "language": "python",
   "name": "python3"
  },
  "language_info": {
   "codemirror_mode": {
    "name": "ipython",
    "version": 3
   },
   "file_extension": ".py",
   "mimetype": "text/x-python",
   "name": "python",
   "nbconvert_exporter": "python",
   "pygments_lexer": "ipython3",
   "version": "3.9.7"
  },
  "orig_nbformat": 4
 },
 "nbformat": 4,
 "nbformat_minor": 2
}
