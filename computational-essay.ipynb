{
 "cells": [
  {
   "cell_type": "code",
   "execution_count": null,
   "metadata": {},
   "outputs": [],
   "source": [
    "import pandas as pd\n",
    "from neonUtilities.NeonObservational import NeonObservational\n",
    "import matplotlib.pyplot as plt\n",
    "from scipy import stats\n",
    "import numpy as np\n",
    "%matplotlib inline"
   ]
  },
  {
   "cell_type": "code",
   "execution_count": null,
   "metadata": {},
   "outputs": [],
   "source": [
    "neonobj = NeonObservational(dpID=\"DP1.10003.001\", site=[\"WOOD\"], dates=[\"2015-07\",[\"2017-07\",\"2017-12\"]], package=\"basic\")\n",
    "#Download data from 2015-07 and the range of 2017-07 to 2017-12.\n",
    "\n",
    "neonobj.download()\n",
    "neonobj.stackByTable()\n",
    "df = neonobj.to_pandas()\n"
   ]
  }
 ],
 "metadata": {
  "language_info": {
   "name": "python"
  },
  "orig_nbformat": 4
 },
 "nbformat": 4,
 "nbformat_minor": 2
}
