{
 "cells": [
  {
   "cell_type": "markdown",
   "metadata": {},
   "source": [
    "run first 3 cells and last one"
   ]
  },
  {
   "cell_type": "code",
   "execution_count": 1,
   "metadata": {},
   "outputs": [],
   "source": [
    "%load_ext autoreload\n",
    "%autoreload 2"
   ]
  },
  {
   "cell_type": "code",
   "execution_count": 2,
   "metadata": {},
   "outputs": [],
   "source": [
    "import pandas as pd\n",
    "import neon_data_tools\n",
    "import matplotlib.pyplot as plt\n",
    "from scipy import stats\n",
    "import numpy as np\n",
    "%matplotlib inline"
   ]
  },
  {
   "cell_type": "code",
   "execution_count": 3,
   "metadata": {},
   "outputs": [],
   "source": [
    "site = \"HARV\"\n",
    "dates = [\"2017-04\", \"2017-05\", \"2017-06\", \"2017-07\", \"2017-08\"]\n",
    "package = \"basic\"\n",
    "datasets = [\"ticks\", \"relative humidity\", 'precipitation']\n",
    "dpIDs = {\"ticks\": \"DP1.10093.001\", \"relative humidity\": \"DP1.00098.001\", \"precipitation\": \"DP1.00006.001\"}\n",
    "file_names = {\"ticks\": [], \"relative humidity\": [], \"precipitation\": []}"
   ]
  },
  {
   "cell_type": "code",
   "execution_count": null,
   "metadata": {},
   "outputs": [],
   "source": [
    "\n",
    "# uncomment to download the data, and then comment it out again\n",
    "\n",
    "# file_names[\"ticks\"].append(neon_data_tools.download_data(\"ticks\", \"DP1.10093.001\", site, dates, package))\n",
    "# file_names[\"ticks\"].append(neon_data_tools.download_data(\"ticks\", \"DP1.10093.001\", site, \"2017-05\", package))\n",
    "# file_names[\"relative humidity\"].append(neon_data_tools.download_data(\"relative humidity\", \"DP1.00098.001\", site, dates, package))\n",
    "# neon_data_tools.get_data_urls(\"DP1.00098.001\", site, '2017-04', package)\n",
    "# neon_data_tools.get_data_urls(\"DP1.00006.001\", site, '2017-04', package)\n",
    "\n",
    "# neon_data_tools.get_file_names(file_names, \"ticks\", \"DP1.10093.001\", site, dates, package)\n",
    "# neon_data_tools.get_file_names(file_names, \"ticks\", \"DP1.10093.001\", site, \"2017-05\", package)\n",
    "# neon_data_tools.get_data_over_time(file_names, \"ticks\", \"DP1.10093.001\", site, dates, package)\n",
    "# neon_data_tools.get_data_over_time(file_names, \"relative humidity\", \"DP1.00098.001\", site, dates, package)\n",
    "# neon_data_tools.download_data(\"relative humidity\", \"DP1.00098.001\", site, '2017-05', package)\n",
    "# neon_data_tools.download_data(\"relative humidity\", \"DP1.00098.001\", site, '2017-05', package)"
   ]
  },
  {
   "cell_type": "code",
   "execution_count": null,
   "metadata": {},
   "outputs": [],
   "source": [
    "# tick_data = pd.read_csv(\"DP1.10093.001/tck_taxonomyProcessed.2017-04.basic.20211222T024529Z.csv\")\n",
    "# pd.concat(map(pd.read_csv, ['DP1.10093.001/tck_taxonomyProcessed.2017-04.basic.20211222T024529Z.csv', 'DP1.10093.001/tck_taxonomyProcessed.2017-05.basic.20211221T223943Z.csv']), ignore_index=True)\n",
    "# neon_data_tools.create_stacked_csv([\"DP1.10093.001/tck_taxonomyProcessed.2017-04.basic.20211222T024529Z.csv\", \"DP1.10093.001/tck_taxonomyProcessed.2017-05.basic.20211221T223943Z.csv\"] )\n",
    "\n",
    "# file_paths = file_names[\"ticks\"]\n",
    "# neon_data_tools.create_stacked_dataframe(file_paths)"
   ]
  },
  {
   "cell_type": "code",
   "execution_count": null,
   "metadata": {},
   "outputs": [],
   "source": [
    "# relative_humidity_data = pd.read_csv(\"DP1.00098.001/000.060.030.RH_30min.2017-06.basic.20211210T174733Z.csv\")\n",
    "# relative_humidity_data\n",
    "\n",
    "# file_paths = file_names[\"relative humidity\"]\n",
    "# neon_data_tools.create_stacked_dataframe(file_paths)"
   ]
  },
  {
   "cell_type": "code",
   "execution_count": 4,
   "metadata": {},
   "outputs": [],
   "source": [
    "# [0] is tick dataframe, [1] is relative humidity dataframe, [2] is precipitation dataframe\n",
    "# if you need this data, copy th next line into desired function and access data from apropriate dataframe\n",
    "stacked_dataframes = neon_data_tools.download_all_datasets(file_names, datasets, dpIDs, site, dates, \"basic\")\n",
    "# stacked_dataframes[2]"
   ]
  }
 ],
 "metadata": {
  "interpreter": {
   "hash": "2068f3583ae5cf10af8f15ef2248b92708cc6d2b99c2277d9c2dd617a15e83e9"
  },
  "kernelspec": {
   "display_name": "Python 3.9.7 ('base')",
   "language": "python",
   "name": "python3"
  },
  "language_info": {
   "codemirror_mode": {
    "name": "ipython",
    "version": 3
   },
   "file_extension": ".py",
   "mimetype": "text/x-python",
   "name": "python",
   "nbconvert_exporter": "python",
   "pygments_lexer": "ipython3",
   "version": "3.9.7"
  },
  "orig_nbformat": 4
 },
 "nbformat": 4,
 "nbformat_minor": 2
}
